{
 "cells": [
  {
   "cell_type": "markdown",
   "metadata": {},
   "source": [
    "<h1>都道府県別酒消費量をグロ―バルに設定する</h1>\n",
    "データ取得元：<a href=\"https://www.nta.go.jp/taxes/sake/tokei/kanen.htm\">国税庁の酒税の課税関係等状況表　過年分（4月～3月）</a>"
   ]
  },
  {
   "cell_type": "markdown",
   "metadata": {},
   "source": [
    "<h2>[1] パッケージのインポート</h2>\n",
    "CSVファイルをロードするために pandasパッケージのインポートと、Native APIの利用のためにirisnativeパッケージをインポートする"
   ]
  },
  {
   "cell_type": "code",
   "execution_count": 1,
   "metadata": {},
   "outputs": [],
   "source": [
    "import pandas as pd\n",
    "import irisnative"
   ]
  },
  {
   "cell_type": "markdown",
   "metadata": {},
   "source": [
    "<h2>[2] IRISへの接続とIRISオブジェクトの作成</h2>"
   ]
  },
  {
   "cell_type": "code",
   "execution_count": 2,
   "metadata": {},
   "outputs": [],
   "source": [
    "connection = irisnative.createConnection(\"localhost\",51779,\"user\",\"_system\",\"SYS\")\n",
    "iris_native = irisnative.createIris(connection)"
   ]
  },
  {
   "cell_type": "markdown",
   "metadata": {},
   "source": [
    "<h2>[3]読み込んだCSVをグローバルに登録</h2>\n",
    "pandasのDataFrameに「東京のアルコール消費量.CSV」の中身をロードし（Tokyo）、以下グローバルに設定<br>\n",
    "グローバル^Alcohol(\"東京\",年)=\"清酒,合成清酒,連続式蒸留焼酎,単式蒸留焼酎,ビール,発泡酒,成人人口(千人）,成人一人当たりの消費量(L)\"<br>\n",
    "<ul>\n",
    "    <li>DataFrameの行が取得できたらtolist()関数でリストに変換、join()メソッドを利用してリストをカンマ区切りの文字列に変換</li>\n",
    "年（listdata[0]）を ^Alcohol()の第2サブスクリプトに設定するため、作成する文字列は、 listdata[1:] で取得する\n",
    "    <li>データを確認します</li>\n",
    "        管理ポータル（localhost:52772/csp/sys/UtilHome.csp）を開き、システムエクスプローラ→グロ－バル→左側でネームスペースを選択し、^Alcohol　を表示します\n",
    "    </ul>"
   ]
  },
  {
   "cell_type": "code",
   "execution_count": 3,
   "metadata": {},
   "outputs": [],
   "source": [
    "Tokyo=pd.read_csv(\"東京のアルコール消費量.csv\")\n",
    "\n",
    "for index, row in Tokyo.iterrows():\n",
    "    listdata = row.astype(str).tolist()  #文字列のリストに変換\n",
    "    mojiretu = ','.join(listdata[1:])    #リストを文字列に変換（区切り文字は何でもOK）\n",
    "    iris_native.set(mojiretu, \"Alcohol\",\"東京\",listdata[0])"
   ]
  },
  {
   "cell_type": "markdown",
   "metadata": {},
   "source": [
    "<ul>\n",
    "    <li>pandasのDataFrameに「大阪のアルコール消費量.CSV」の中身をロードし（Osaka）、以下グローバルに設定\n",
    "    </li>\n",
    "    ^Alcohol(\"大阪\",年)=\"清酒,合成清酒,連続式蒸留焼酎,単式蒸留焼酎,ビール,発泡酒,成人人口(千人）,成人一人当たりの消費量(L)\"\n",
    "</ul>"
   ]
  },
  {
   "cell_type": "code",
   "execution_count": 4,
   "metadata": {},
   "outputs": [],
   "source": [
    "Osaka=pd.read_csv(\"大阪のアルコール消費量.csv\")\n",
    "for index, row in Osaka.iterrows():\n",
    "    listdata = row.astype(str).tolist()  #文字列のリストに変換\n",
    "    mojiretu = ','.join(listdata[1:])    #リストを文字列に変換（区切り文字は何でもOK）\n",
    "    iris_native.set(mojiretu, \"Alcohol\",\"大阪\",listdata[0])"
   ]
  },
  {
   "cell_type": "markdown",
   "metadata": {},
   "source": [
    "<H2>[4]東京のデータだけ取得する</H2>\n",
    "<ul>\n",
    "    <li>\n",
    "^Alcohol(\"東京\",★)　　★の第2サブスクリプトをループしデータを取得し、DataFrameに登録し、中身を確認します。\n",
    "        </li>\n",
    "    <li>DataFrame のカラム名は以下の通り</li>\n",
    "        ['Year','Sake', 'SyntheticSake','ContinuousDistilledShochu','SingleDistilledShochu','Beer','LowMaltBeer','Adult']\n",
    "</ul>"
   ]
  },
  {
   "cell_type": "code",
   "execution_count": 5,
   "metadata": {},
   "outputs": [
    {
     "data": {
      "text/html": [
       "<div>\n",
       "<style scoped>\n",
       "    .dataframe tbody tr th:only-of-type {\n",
       "        vertical-align: middle;\n",
       "    }\n",
       "\n",
       "    .dataframe tbody tr th {\n",
       "        vertical-align: top;\n",
       "    }\n",
       "\n",
       "    .dataframe thead th {\n",
       "        text-align: right;\n",
       "    }\n",
       "</style>\n",
       "<table border=\"1\" class=\"dataframe\">\n",
       "  <thead>\n",
       "    <tr style=\"text-align: right;\">\n",
       "      <th></th>\n",
       "      <th>Year</th>\n",
       "      <th>Sake</th>\n",
       "      <th>SyntheticSake</th>\n",
       "      <th>ContinuousDistilledShochu</th>\n",
       "      <th>SingleDistilledShochu</th>\n",
       "      <th>Beer</th>\n",
       "      <th>LowMaltBeer</th>\n",
       "      <th>Adult</th>\n",
       "    </tr>\n",
       "  </thead>\n",
       "  <tbody>\n",
       "    <tr>\n",
       "      <th>0</th>\n",
       "      <td>2015</td>\n",
       "      <td>68265</td>\n",
       "      <td>4670</td>\n",
       "      <td>64819</td>\n",
       "      <td>43844</td>\n",
       "      <td>484347</td>\n",
       "      <td>72687</td>\n",
       "      <td>11258</td>\n",
       "    </tr>\n",
       "    <tr>\n",
       "      <th>1</th>\n",
       "      <td>2016</td>\n",
       "      <td>69694</td>\n",
       "      <td>4486</td>\n",
       "      <td>65155</td>\n",
       "      <td>44494</td>\n",
       "      <td>493290</td>\n",
       "      <td>76404</td>\n",
       "      <td>11328</td>\n",
       "    </tr>\n",
       "    <tr>\n",
       "      <th>2</th>\n",
       "      <td>2017</td>\n",
       "      <td>71864</td>\n",
       "      <td>4281</td>\n",
       "      <td>65155</td>\n",
       "      <td>46830</td>\n",
       "      <td>507098</td>\n",
       "      <td>73520</td>\n",
       "      <td>11390</td>\n",
       "    </tr>\n",
       "    <tr>\n",
       "      <th>3</th>\n",
       "      <td>2018</td>\n",
       "      <td>67036</td>\n",
       "      <td>4065</td>\n",
       "      <td>62657</td>\n",
       "      <td>43300</td>\n",
       "      <td>506951</td>\n",
       "      <td>76385</td>\n",
       "      <td>11531</td>\n",
       "    </tr>\n",
       "    <tr>\n",
       "      <th>4</th>\n",
       "      <td>2019</td>\n",
       "      <td>68824</td>\n",
       "      <td>4412</td>\n",
       "      <td>64334</td>\n",
       "      <td>43611</td>\n",
       "      <td>493506</td>\n",
       "      <td>67278</td>\n",
       "      <td>11625</td>\n",
       "    </tr>\n",
       "  </tbody>\n",
       "</table>\n",
       "</div>"
      ],
      "text/plain": [
       "   Year   Sake SyntheticSake ContinuousDistilledShochu SingleDistilledShochu  \\\n",
       "0  2015  68265          4670                     64819                 43844   \n",
       "1  2016  69694          4486                     65155                 44494   \n",
       "2  2017  71864          4281                     65155                 46830   \n",
       "3  2018  67036          4065                     62657                 43300   \n",
       "4  2019  68824          4412                     64334                 43611   \n",
       "\n",
       "     Beer LowMaltBeer  Adult  \n",
       "0  484347       72687  11258  \n",
       "1  493290       76404  11328  \n",
       "2  507098       73520  11390  \n",
       "3  506951       76385  11531  \n",
       "4  493506       67278  11625  "
      ]
     },
     "execution_count": 5,
     "metadata": {},
     "output_type": "execute_result"
    }
   ],
   "source": [
    "alcohol=[]\n",
    "ite=iris_native.iterator(\"Alcohol\",\"東京\")\n",
    "for year,data in ite.items():\n",
    "    row=data.split(\",\")  #文字列→りストに変換\n",
    "    row.insert(0,year)   #リストの先頭にYearを追加\n",
    "    alcohol.append(row)\n",
    "\n",
    "df1=pd.DataFrame(alcohol,columns=['Year','Sake', 'SyntheticSake','ContinuousDistilledShochu','SingleDistilledShochu','Beer','LowMaltBeer','Adult'])\n",
    "df1"
   ]
  },
  {
   "cell_type": "markdown",
   "metadata": {},
   "source": [
    "<h2>[5]全件ロードしてみる</h2>\n",
    "<ul>\n",
    "    <li>\n",
    "^Alcohol()の第1と第2サブスクリプトをループします。\n",
    "    </li>\n",
    "    <li>DataFrame のカラム名は以下の通り</li>\n",
    "        ['Year','Sake', 'SyntheticSake','ContinuousDistilledShochu','SingleDistilledShochu','Beer','LowMaltBeer','Adult']\n",
    "</ul>"
   ]
  },
  {
   "cell_type": "code",
   "execution_count": 6,
   "metadata": {},
   "outputs": [
    {
     "data": {
      "text/html": [
       "<div>\n",
       "<style scoped>\n",
       "    .dataframe tbody tr th:only-of-type {\n",
       "        vertical-align: middle;\n",
       "    }\n",
       "\n",
       "    .dataframe tbody tr th {\n",
       "        vertical-align: top;\n",
       "    }\n",
       "\n",
       "    .dataframe thead th {\n",
       "        text-align: right;\n",
       "    }\n",
       "</style>\n",
       "<table border=\"1\" class=\"dataframe\">\n",
       "  <thead>\n",
       "    <tr style=\"text-align: right;\">\n",
       "      <th></th>\n",
       "      <th>Area</th>\n",
       "      <th>Year</th>\n",
       "      <th>Sake</th>\n",
       "      <th>SyntheticSake</th>\n",
       "      <th>ContinuousDistilledShochu</th>\n",
       "      <th>SingleDistilledShochu</th>\n",
       "      <th>Beer</th>\n",
       "      <th>LowMaltBeer</th>\n",
       "      <th>Adult</th>\n",
       "    </tr>\n",
       "  </thead>\n",
       "  <tbody>\n",
       "    <tr>\n",
       "      <th>0</th>\n",
       "      <td>大阪</td>\n",
       "      <td>2015</td>\n",
       "      <td>35652</td>\n",
       "      <td>1938</td>\n",
       "      <td>17138</td>\n",
       "      <td>36888</td>\n",
       "      <td>221896</td>\n",
       "      <td>68103</td>\n",
       "      <td>7289</td>\n",
       "    </tr>\n",
       "    <tr>\n",
       "      <th>1</th>\n",
       "      <td>大阪</td>\n",
       "      <td>2016</td>\n",
       "      <td>33493</td>\n",
       "      <td>1728</td>\n",
       "      <td>15427</td>\n",
       "      <td>33322</td>\n",
       "      <td>213450</td>\n",
       "      <td>66450</td>\n",
       "      <td>7290</td>\n",
       "    </tr>\n",
       "    <tr>\n",
       "      <th>2</th>\n",
       "      <td>大阪</td>\n",
       "      <td>2017</td>\n",
       "      <td>34615</td>\n",
       "      <td>1882</td>\n",
       "      <td>15516</td>\n",
       "      <td>33098</td>\n",
       "      <td>230974</td>\n",
       "      <td>65607</td>\n",
       "      <td>7293</td>\n",
       "    </tr>\n",
       "    <tr>\n",
       "      <th>3</th>\n",
       "      <td>大阪</td>\n",
       "      <td>2018</td>\n",
       "      <td>33480</td>\n",
       "      <td>1782</td>\n",
       "      <td>15101</td>\n",
       "      <td>32398</td>\n",
       "      <td>227512</td>\n",
       "      <td>61287</td>\n",
       "      <td>7318</td>\n",
       "    </tr>\n",
       "    <tr>\n",
       "      <th>4</th>\n",
       "      <td>大阪</td>\n",
       "      <td>2019</td>\n",
       "      <td>32734</td>\n",
       "      <td>1778</td>\n",
       "      <td>15325</td>\n",
       "      <td>31727</td>\n",
       "      <td>219077</td>\n",
       "      <td>56917</td>\n",
       "      <td>7330</td>\n",
       "    </tr>\n",
       "    <tr>\n",
       "      <th>5</th>\n",
       "      <td>東京</td>\n",
       "      <td>2015</td>\n",
       "      <td>68265</td>\n",
       "      <td>4670</td>\n",
       "      <td>64819</td>\n",
       "      <td>43844</td>\n",
       "      <td>484347</td>\n",
       "      <td>72687</td>\n",
       "      <td>11258</td>\n",
       "    </tr>\n",
       "    <tr>\n",
       "      <th>6</th>\n",
       "      <td>東京</td>\n",
       "      <td>2016</td>\n",
       "      <td>69694</td>\n",
       "      <td>4486</td>\n",
       "      <td>65155</td>\n",
       "      <td>44494</td>\n",
       "      <td>493290</td>\n",
       "      <td>76404</td>\n",
       "      <td>11328</td>\n",
       "    </tr>\n",
       "    <tr>\n",
       "      <th>7</th>\n",
       "      <td>東京</td>\n",
       "      <td>2017</td>\n",
       "      <td>71864</td>\n",
       "      <td>4281</td>\n",
       "      <td>65155</td>\n",
       "      <td>46830</td>\n",
       "      <td>507098</td>\n",
       "      <td>73520</td>\n",
       "      <td>11390</td>\n",
       "    </tr>\n",
       "    <tr>\n",
       "      <th>8</th>\n",
       "      <td>東京</td>\n",
       "      <td>2018</td>\n",
       "      <td>67036</td>\n",
       "      <td>4065</td>\n",
       "      <td>62657</td>\n",
       "      <td>43300</td>\n",
       "      <td>506951</td>\n",
       "      <td>76385</td>\n",
       "      <td>11531</td>\n",
       "    </tr>\n",
       "    <tr>\n",
       "      <th>9</th>\n",
       "      <td>東京</td>\n",
       "      <td>2019</td>\n",
       "      <td>68824</td>\n",
       "      <td>4412</td>\n",
       "      <td>64334</td>\n",
       "      <td>43611</td>\n",
       "      <td>493506</td>\n",
       "      <td>67278</td>\n",
       "      <td>11625</td>\n",
       "    </tr>\n",
       "  </tbody>\n",
       "</table>\n",
       "</div>"
      ],
      "text/plain": [
       "  Area  Year   Sake SyntheticSake ContinuousDistilledShochu  \\\n",
       "0   大阪  2015  35652          1938                     17138   \n",
       "1   大阪  2016  33493          1728                     15427   \n",
       "2   大阪  2017  34615          1882                     15516   \n",
       "3   大阪  2018  33480          1782                     15101   \n",
       "4   大阪  2019  32734          1778                     15325   \n",
       "5   東京  2015  68265          4670                     64819   \n",
       "6   東京  2016  69694          4486                     65155   \n",
       "7   東京  2017  71864          4281                     65155   \n",
       "8   東京  2018  67036          4065                     62657   \n",
       "9   東京  2019  68824          4412                     64334   \n",
       "\n",
       "  SingleDistilledShochu    Beer LowMaltBeer  Adult  \n",
       "0                 36888  221896       68103   7289  \n",
       "1                 33322  213450       66450   7290  \n",
       "2                 33098  230974       65607   7293  \n",
       "3                 32398  227512       61287   7318  \n",
       "4                 31727  219077       56917   7330  \n",
       "5                 43844  484347       72687  11258  \n",
       "6                 44494  493290       76404  11328  \n",
       "7                 46830  507098       73520  11390  \n",
       "8                 43300  506951       76385  11531  \n",
       "9                 43611  493506       67278  11625  "
      ]
     },
     "execution_count": 6,
     "metadata": {},
     "output_type": "execute_result"
    }
   ],
   "source": [
    "gloall=[]\n",
    "ite1= iris_native.iterator(\"Alcohol\")\n",
    "for area in ite1.subscripts():\n",
    "    ite2=iris_native.iterator(\"Alcohol\",area)\n",
    "    for year,value in ite2.items():\n",
    "        moji=area + \",\" + year +\",\" + value\n",
    "        gloall.append(moji.split(\",\"))\n",
    "df2=pd.DataFrame(gloall,columns=['Area','Year','Sake', 'SyntheticSake','ContinuousDistilledShochu','SingleDistilledShochu','Beer','LowMaltBeer','Adult'])\n",
    "df2"
   ]
  },
  {
   "cell_type": "markdown",
   "metadata": {},
   "source": [
    "<h2>[6]東京のデータだけを削除します</h2>\n",
    "<ul>\n",
    "    <li>データを確認します</li>\n",
    "        管理ポータル（localhost:52772/csp/sys/UtilHome.csp）を開き、システムエクスプローラ→グロ－バル→左側でネームスペースを選択し、^Alcohol　を表示します\n",
    "    </ul>"
   ]
  },
  {
   "cell_type": "code",
   "execution_count": 7,
   "metadata": {},
   "outputs": [],
   "source": [
    "iris_native.kill(\"Alcohol\",\"東京\")"
   ]
  },
  {
   "cell_type": "markdown",
   "metadata": {},
   "source": [
    "<h3>おまけ1：グラフ表示</h3>\n",
    "matplotlib の pyplotパッケージをインポートして、東京のビールと発泡酒の消費をグラフ化します。"
   ]
  },
  {
   "cell_type": "code",
   "execution_count": 8,
   "metadata": {},
   "outputs": [
    {
     "data": {
      "text/plain": [
       "<matplotlib.axes._subplots.AxesSubplot at 0x22ced2cf348>"
      ]
     },
     "execution_count": 8,
     "metadata": {},
     "output_type": "execute_result"
    },
    {
     "data": {
      "image/png": "[encoded data removed]",
      "text/plain": [
       "<Figure size 432x288 with 1 Axes>"
      ]
     },
     "metadata": {
      "needs_background": "light"
     },
     "output_type": "display_data"
    }
   ],
   "source": [
    "from matplotlib import pyplot as plt\n",
    "%matplotlib inline\n",
    "Tokyo[[\"Beer\",\"LowMaltBeer\"]].plot(title=\"Tokyo\")"
   ]
  },
  {
   "cell_type": "markdown",
   "metadata": {},
   "source": [
    "<h3>おまけ2：大阪の情報もグラフ表示</h3>\n",
    "大阪のビールと発泡酒消費量もグラフ化します。"
   ]
  },
  {
   "cell_type": "code",
   "execution_count": 9,
   "metadata": {},
   "outputs": [
    {
     "data": {
      "text/plain": [
       "<matplotlib.axes._subplots.AxesSubplot at 0x22ced61ad48>"
      ]
     },
     "execution_count": 9,
     "metadata": {},
     "output_type": "execute_result"
    },
    {
     "data": {
      "image/png": "[encoded data removed]",
      "text/plain": [
       "<Figure size 432x288 with 1 Axes>"
      ]
     },
     "metadata": {
      "needs_background": "light"
     },
     "output_type": "display_data"
    }
   ],
   "source": [
    "Osaka[[\"Beer\",\"LowMaltBeer\"]].plot(title=\"Osaka\")"
   ]
  },
  {
   "cell_type": "markdown",
   "metadata": {},
   "source": [
    "<h3>おまけ3:東京の清酒、合成清酒、ビール、発泡酒のヒートマップの表示</h3>"
   ]
  },
  {
   "cell_type": "code",
   "execution_count": 10,
   "metadata": {},
   "outputs": [
    {
     "name": "stderr",
     "output_type": "stream",
     "text": [
      "C:\\Users\\iijima.ISCINTERNAL\\AppData\\Local\\Continuum\\anaconda3\\lib\\site-packages\\statsmodels\\tools\\_testing.py:19: FutureWarning: pandas.util.testing is deprecated. Use the functions in the public API at pandas.testing instead.\n",
      "  import pandas.util.testing as tm\n"
     ]
    },
    {
     "data": {
      "text/plain": [
       "<matplotlib.axes._subplots.AxesSubplot at 0x22cfd7dacc8>"
      ]
     },
     "execution_count": 10,
     "metadata": {},
     "output_type": "execute_result"
    },
    {
     "data": {
      "image/png": "[encoded data removed]",
      "text/plain": [
       "<Figure size 432x288 with 2 Axes>"
      ]
     },
     "metadata": {
      "needs_background": "light"
     },
     "output_type": "display_data"
    }
   ],
   "source": [
    "import seaborn as sns\n",
    "sns.heatmap(Tokyo[[ 'Sake', 'SyntheticSake','Beer','LowMaltBeer']].corr(), cmap= sns.color_palette('coolwarm', 10), annot=True,fmt='.2f', vmin = -1, vmax = 1)"
   ]
  },
  {
   "cell_type": "markdown",
   "metadata": {},
   "source": [
    "<h3>おまけ4:大阪の清酒、合成清酒、ビール、発泡酒のヒートマップの表示</h3>"
   ]
  },
  {
   "cell_type": "code",
   "execution_count": 11,
   "metadata": {},
   "outputs": [
    {
     "data": {
      "text/plain": [
       "<matplotlib.axes._subplots.AxesSubplot at 0x22cfd8c9588>"
      ]
     },
     "execution_count": 11,
     "metadata": {},
     "output_type": "execute_result"
    },
    {
     "data": {
      "image/png": "[encoded data removed]",
      "text/plain": [
       "<Figure size 432x288 with 2 Axes>"
      ]
     },
     "metadata": {
      "needs_background": "light"
     },
     "output_type": "display_data"
    }
   ],
   "source": [
    "sns.heatmap(Osaka[[ 'Sake', 'SyntheticSake','Beer','LowMaltBeer']].corr(), cmap= sns.color_palette('coolwarm', 10), annot=True,fmt='.2f', vmin = -1, vmax = 1)"
   ]
  },
  {
   "cell_type": "markdown",
   "metadata": {},
   "source": [
    "<h3>おまけ5:東京・大阪の連続蒸留焼酎と単式蒸留焼酎の折れ線グラフ</h3>"
   ]
  },
  {
   "cell_type": "code",
   "execution_count": 12,
   "metadata": {},
   "outputs": [
    {
     "data": {
      "text/plain": [
       "<matplotlib.axes._subplots.AxesSubplot at 0x22cfd9e6d08>"
      ]
     },
     "execution_count": 12,
     "metadata": {},
     "output_type": "execute_result"
    },
    {
     "data": {
      "image/png": "[encoded data removed]",
      "text/plain": [
       "<Figure size 432x288 with 1 Axes>"
      ]
     },
     "metadata": {
      "needs_background": "light"
     },
     "output_type": "display_data"
    },
    {
     "data": {
      "image/png": "[encoded data removed]",
      "text/plain": [
       "<Figure size 432x288 with 1 Axes>"
      ]
     },
     "metadata": {
      "needs_background": "light"
     },
     "output_type": "display_data"
    }
   ],
   "source": [
    "Tokyo[['ContinuousDistilledShochu', 'SingleDistilledShochu']].plot(title=\"Tokyo\")\n",
    "Osaka[['ContinuousDistilledShochu', 'SingleDistilledShochu']].plot(title=\"Osaka\")"
   ]
  },
  {
   "cell_type": "code",
   "execution_count": 13,
   "metadata": {},
   "outputs": [],
   "source": [
    "connection.close()"
   ]
  },
  {
   "cell_type": "code",
   "execution_count": null,
   "metadata": {},
   "outputs": [],
   "source": []
  }
 ],
 "metadata": {
  "kernelspec": {
   "display_name": "Python 3",
   "language": "python",
   "name": "python3"
  },
  "language_info": {
   "codemirror_mode": {
    "name": "ipython",
    "version": 3
   },
   "file_extension": ".py",
   "mimetype": "text/x-python",
   "name": "python",
   "nbconvert_exporter": "python",
   "pygments_lexer": "ipython3",
   "version": "3.7.4"
  }
 },
 "nbformat": 4,
 "nbformat_minor": 4
}
